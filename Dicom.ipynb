{
 "cells": [
  {
   "cell_type": "code",
   "execution_count": 1,
   "metadata": {},
   "outputs": [],
   "source": [
    "import pydicom\n",
    "ttfm=pydicom.dcmread('ttfm.dcm')\n",
    "ttfm_tags=pydicom.dcmread('ttfm_privatetags.dcm')\n",
    "bmode=pydicom.dcmread('bmode.dcm')\n",
    "bmode_tags=pydicom.dcmread('bmode_privatetags.dcm')"
   ]
  },
  {
   "cell_type": "code",
   "execution_count": 2,
   "metadata": {},
   "outputs": [
    {
     "name": "stdout",
     "output_type": "stream",
     "text": [
      "(0008, 0050),(0028, 0100),(0028, 0101),(0018, 0040),(0028, 0011),(0008, 0023),(0008, 0033),(0018, 1000),(0018, 0072),(0028, 0009),(0018, 1063),(0028, 0102),(0020, 4000),(0008, 0008),(0020, 0013),(0008, 0081),(0008, 0080),(0020, 0060),(0028, 2110),(0008, 0070),(0008, 1090),(0008, 0060),(0028, 0008),(0010, 0030),(0010, 4000),(0010, 0020),(0010, 0010),(0020, 0020),(0010, 0040),(0010, 1020),(0010, 1030),(0008, 1050),(0028, 0004),(7fe0, 0010),(0028, 0103),(0028, 0006),(0018, 1244),(0008, 2144),(0008, 0090),(0028, 0010),(0008, 0016),(0008, 0018),(0028, 0002),(0018, 6011),(0008, 0021),(0020, 000e),(0020, 0011),(0008, 0031),(0018, 1020),(0008, 0005),(0008, 1010),(0008, 0020),(0008, 1030),(0020, 0010),(0020, 000d),(0008, 0030),\n"
     ]
    }
   ],
   "source": [
    "ttfm_file= open(\"ttfm_file.txt\",\"w\")\n",
    "a=ttfm.dir()\n",
    "for i in a:\n",
    "    ttfm_file.write(str(ttfm.data_element(i).tag)+\",\")\n",
    "ttfm_file=open(\"ttfm_file.txt\",\"r\")\n",
    "print(ttfm_file.read())\n",
    "ttfm_file.close()"
   ]
  },
  {
   "cell_type": "code",
   "execution_count": 4,
   "metadata": {},
   "outputs": [
    {
     "name": "stdout",
     "output_type": "stream",
     "text": [
      "(0008, 0050),(0028, 0100),(0028, 0101),(0018, 0040),(0028, 0011),(0008, 0023),(0008, 0033),(0018, 1000),(0018, 0072),(0028, 0009),(0018, 1063),(0028, 0102),(0020, 4000),(0008, 0008),(0020, 0013),(0008, 0081),(0008, 0080),(0020, 0060),(0028, 2110),(0008, 0070),(0008, 1090),(0008, 0060),(0028, 0008),(0010, 0030),(0010, 4000),(0010, 0020),(0010, 0010),(0020, 0020),(0010, 0040),(0010, 1020),(0010, 1030),(0008, 1050),(0028, 0004),(7fe0, 0010),(0028, 0103),(0028, 0006),(0018, 1244),(0008, 2144),(0008, 0090),(0028, 0010),(0008, 0016),(0008, 0018),(0028, 0002),(0018, 6011),(0008, 0021),(0020, 000e),(0020, 0011),(0008, 0031),(0018, 1020),(0008, 0005),(0008, 1010),(0008, 0020),(0008, 1030),(0020, 0010),(0020, 000d),(0008, 0030),\n"
     ]
    }
   ],
   "source": [
    "bmode_file= open(\"bmode_file.txt\",\"w\")\n",
    "c=bmode.dir()\n",
    "for i in a:\n",
    "    bmode_file.write(str(bmode.data_element(i).tag)+\",\")\n",
    "bmode_file=open(\"bmode_file.txt\",\"r\")\n",
    "print(bmode_file.read())\n",
    "bmode_file.close()"
   ]
  }
 ],
 "metadata": {
  "kernelspec": {
   "display_name": "Python 3",
   "language": "python",
   "name": "python3"
  },
  "language_info": {
   "codemirror_mode": {
    "name": "ipython",
    "version": 3
   },
   "file_extension": ".py",
   "mimetype": "text/x-python",
   "name": "python",
   "nbconvert_exporter": "python",
   "pygments_lexer": "ipython3",
   "version": "3.7.0"
  }
 },
 "nbformat": 4,
 "nbformat_minor": 2
}
